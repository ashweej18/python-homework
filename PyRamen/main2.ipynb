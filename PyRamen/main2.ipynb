{
 "cells": [
  {
   "cell_type": "code",
   "execution_count": 30,
   "metadata": {},
   "outputs": [],
   "source": [
    "#import the csv and path lib\n",
    "import csv \n",
    "from pathlib import Path"
   ]
  },
  {
   "cell_type": "code",
   "execution_count": 31,
   "metadata": {},
   "outputs": [],
   "source": [
    "#storing the file paths\n",
    "menu_filepath=Path(\"Data/menu_data.csv\")\n",
    "sales_filepath=Path(\"Data/sales_data.csv\")"
   ]
  },
  {
   "cell_type": "code",
   "execution_count": 32,
   "metadata": {},
   "outputs": [],
   "source": [
    "#Initializing dictionaries to store the menu data and sales datea\n",
    "menu=[]\n",
    "sales=[]"
   ]
  },
  {
   "cell_type": "code",
   "execution_count": 33,
   "metadata": {},
   "outputs": [],
   "source": [
    "#Reading menu data csv file to menu dictionary\n",
    "with open(menu_filepath) as menu_file:\n",
    "    reader2 = csv.reader(menu_file)\n",
    "    next(reader2)\n",
    "    for row in reader2:\n",
    "        menu.append({'items':row[0],'category':row[1],'description':row[2],'price':row[3],'cost':row[4]})"
   ]
  },
  {
   "cell_type": "code",
   "execution_count": null,
   "metadata": {},
   "outputs": [],
   "source": [
    "print(menu_filepath)"
   ]
  },
  {
   "cell_type": "code",
   "execution_count": 34,
   "metadata": {},
   "outputs": [],
   "source": [
    "#Reading sales data csv file to sales dictionary\n",
    "with open(sales_filepath) as sales_file:\n",
    "    reader2 = csv.reader(sales_file)\n",
    "    next(reader2)\n",
    "    for row in reader2:\n",
    "        next(reader2,None)\n",
    "        #print(row)\n",
    "        sales.append({'Line_item_ID':row[0],'Date':row[1],'Credit_Card_Number':row[2],'Quantity':row[3],'Menu_Item':row[4]})"
   ]
  },
  {
   "cell_type": "code",
   "execution_count": 35,
   "metadata": {},
   "outputs": [],
   "source": [
    "#Initialize an empty report dictionary to hold the future aggregated per-product results.\n",
    "report={}\n",
    "for sales_item in sales:\n",
    "    menu_item=sales_item['Menu_Item']\n",
    "    quantity=int(sales_item['Quantity'])\n",
    "    if menu_item not in report:\n",
    "        report[menu_item]={\n",
    "            \"01-count\": 0,\n",
    "            \"02-revenue\": 0,\n",
    "            \"03-cogs\": 0,\n",
    "            \"04-profit\": 0,\n",
    "            }"
   ]
  },
  {
   "cell_type": "code",
   "execution_count": 26,
   "metadata": {},
   "outputs": [],
   "source": [
    "print(report)"
   ]
  },
  {
   "cell_type": "code",
   "execution_count": 39,
   "metadata": {},
   "outputs": [],
   "source": [
    "for sales_item in sales:\n",
    "    sales_item_name=str(sales_item['Menu_Item'])\n",
    "    for item in menu:\n",
    "        if str(item['items'])==sales_item_name:\n",
    "            quantity =int(sales_item['Quantity'])\n",
    "            price=float(item['price'])\n",
    "            cost=float(item['cost'])\n",
    "            report[sales_item_name][\"01-count\"] += quantity\n",
    "            report[sales_item_name][\"02-revenue\"] += price * quantity\n",
    "            report[sales_item_name][\"03-cogs\"] += cost * quantity\n",
    "            report[sales_item_name][\"04-profit\"] += (price-cost) * quantity\n",
    "        #else:\n",
    "            #if sales_item_name not in no_match:\n",
    "                #no_match.append(sales_item_name)\n",
    "\n",
    "            "
   ]
  },
  {
   "cell_type": "code",
   "execution_count": 40,
   "metadata": {},
   "outputs": [
    {
     "name": "stdout",
     "output_type": "stream",
     "text": [
      "{'spicy miso ramen': {'01-count': 9238, '02-revenue': 110856.0, '03-cogs': 46190.0, '04-profit': 64666.0}, 'tori paitan ramen': {'01-count': 9156, '02-revenue': 119028.0, '03-cogs': 54936.0, '04-profit': 64092.0}, 'truffle butter ramen': {'01-count': 8982, '02-revenue': 125748.0, '03-cogs': 62874.0, '04-profit': 62874.0}, 'tonkotsu ramen': {'01-count': 9288, '02-revenue': 120744.0, '03-cogs': 55728.0, '04-profit': 65016.0}, 'vegetarian spicy miso': {'01-count': 9216, '02-revenue': 110592.0, '03-cogs': 46080.0, '04-profit': 64512.0}, 'shio ramen': {'01-count': 9180, '02-revenue': 100980.0, '03-cogs': 45900.0, '04-profit': 55080.0}, 'miso crab ramen': {'01-count': 8890, '02-revenue': 106680.0, '03-cogs': 53340.0, '04-profit': 53340.0}, 'nagomi shoyu': {'01-count': 9132, '02-revenue': 100452.0, '03-cogs': 45660.0, '04-profit': 54792.0}, 'soft-shell miso crab ramen': {'01-count': 9130, '02-revenue': 127820.0, '03-cogs': 63910.0, '04-profit': 63910.0}, 'burnt garlic tonkotsu ramen': {'01-count': 9070, '02-revenue': 126980.0, '03-cogs': 54420.0, '04-profit': 72560.0}, 'vegetarian curry + king trumpet mushroom ramen': {'01-count': 8824, '02-revenue': 114712.0, '03-cogs': 61768.0, '04-profit': 52944.0}}\n"
     ]
    }
   ],
   "source": [
    "print(report)"
   ]
  },
  {
   "cell_type": "code",
   "execution_count": 43,
   "metadata": {},
   "outputs": [],
   "source": [
    "# Writing the results into the output2 text file\n",
    "import sys\n",
    "import os\n",
    "import json"
   ]
  },
  {
   "cell_type": "code",
   "execution_count": 47,
   "metadata": {},
   "outputs": [],
   "source": [
    "if os.path.exists(\"output2.txt\"):\n",
    "    os.remove(\"output2.txt\")\n",
    "output_file=open(\"output2.txt\", \"w\") \n",
    "output_file.write(json.dumps(report))\n",
    "output_file.close()"
   ]
  },
  {
   "cell_type": "code",
   "execution_count": null,
   "metadata": {},
   "outputs": [],
   "source": []
  }
 ],
 "metadata": {
  "kernelspec": {
   "display_name": "Python 3",
   "language": "python",
   "name": "python3"
  },
  "language_info": {
   "codemirror_mode": {
    "name": "ipython",
    "version": 3
   },
   "file_extension": ".py",
   "mimetype": "text/x-python",
   "name": "python",
   "nbconvert_exporter": "python",
   "pygments_lexer": "ipython3",
   "version": "3.7.3"
  }
 },
 "nbformat": 4,
 "nbformat_minor": 2
}
