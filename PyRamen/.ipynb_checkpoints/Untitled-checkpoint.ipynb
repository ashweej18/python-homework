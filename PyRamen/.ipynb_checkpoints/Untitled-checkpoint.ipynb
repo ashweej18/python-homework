{
 "cells": [
  {
   "cell_type": "code",
   "execution_count": 24,
   "metadata": {},
   "outputs": [],
   "source": [
    "import csv \n",
    "from pathlib import Path"
   ]
  },
  {
   "cell_type": "code",
   "execution_count": 25,
   "metadata": {},
   "outputs": [],
   "source": [
    "menu_filepath=Path(\"Data/menu_data.csv\")\n",
    "sales_filepath=Path(\"Data/sales_data.csv\")"
   ]
  },
  {
   "cell_type": "code",
   "execution_count": 26,
   "metadata": {},
   "outputs": [],
   "source": [
    "menu=[]\n",
    "sales=[]"
   ]
  },
  {
   "cell_type": "code",
   "execution_count": 27,
   "metadata": {},
   "outputs": [],
   "source": [
    "#Reading menu data csv file to menu dictionary\n",
    "with open(menu_filepath) as menu_file:\n",
    "    reader2 = csv.reader(menu_file)\n",
    "    next(reader2)\n",
    "    for row in reader2:\n",
    "        menu.append({'items':row[0],'category':row[1],'description':row[2],'price':row[3],'cost':row[4]})"
   ]
  },
  {
   "cell_type": "code",
   "execution_count": 6,
   "metadata": {},
   "outputs": [
    {
     "name": "stdout",
     "output_type": "stream",
     "text": [
      "Data/menu_data.csv\n"
     ]
    }
   ],
   "source": [
    "print(menu_filepath)"
   ]
  },
  {
   "cell_type": "code",
   "execution_count": 28,
   "metadata": {},
   "outputs": [],
   "source": [
    "#Reading sales data csv file to sales dictionary\n",
    "with open(sales_filepath) as sales_file:\n",
    "    reader2 = csv.reader(sales_file)\n",
    "    next(reader2)\n",
    "    for row in reader2:\n",
    "        next(reader2,None)\n",
    "        #print(row)\n",
    "        sales.append({'Line_item_ID':row[0],'Date':row[1],'Credit_Card_Number':row[2],'Quantity':row[3],'Menu_Item':row[4]})"
   ]
  },
  {
   "cell_type": "code",
   "execution_count": 29,
   "metadata": {},
   "outputs": [
    {
     "name": "stdout",
     "output_type": "stream",
     "text": [
      "{'spicy miso ramen': {'01-count': 0, '02-revenue': 0, '03-cogs': 0, '04-profit': 0}, 'tori paitan ramen': {'01-count': 0, '02-revenue': 0, '03-cogs': 0, '04-profit': 0}, 'truffle butter ramen': {'01-count': 0, '02-revenue': 0, '03-cogs': 0, '04-profit': 0}, 'tonkotsu ramen': {'01-count': 0, '02-revenue': 0, '03-cogs': 0, '04-profit': 0}, 'vegetarian spicy miso': {'01-count': 0, '02-revenue': 0, '03-cogs': 0, '04-profit': 0}, 'shio ramen': {'01-count': 0, '02-revenue': 0, '03-cogs': 0, '04-profit': 0}, 'miso crab ramen': {'01-count': 0, '02-revenue': 0, '03-cogs': 0, '04-profit': 0}, 'nagomi shoyu': {'01-count': 0, '02-revenue': 0, '03-cogs': 0, '04-profit': 0}, 'soft-shell miso crab ramen': {'01-count': 0, '02-revenue': 0, '03-cogs': 0, '04-profit': 0}, 'burnt garlic tonkotsu ramen': {'01-count': 0, '02-revenue': 0, '03-cogs': 0, '04-profit': 0}, 'vegetarian curry + king trumpet mushroom ramen': {'01-count': 0, '02-revenue': 0, '03-cogs': 0, '04-profit': 0}}\n"
     ]
    }
   ],
   "source": [
    "report={}\n",
    "for sales_item in sales:\n",
    "    menu_item=sales_item['Menu_Item']\n",
    "    quantity=sales_item['Quantity']\n",
    "    if menu_item not in report:\n",
    "        report[menu_item]={\n",
    "            \"01-count\": 0,\n",
    "            \"02-revenue\": 0,\n",
    "            \"03-cogs\": 0,\n",
    "            \"04-profit\": 0,\n",
    "            }\n",
    "print(report)"
   ]
  },
  {
   "cell_type": "code",
   "execution_count": 33,
   "metadata": {},
   "outputs": [
    {
     "name": "stdout",
     "output_type": "stream",
     "text": [
      "i\n",
      "i\n"
     ]
    },
    {
     "ename": "TypeError",
     "evalue": "string indices must be integers",
     "output_type": "error",
     "traceback": [
      "\u001b[0;31m---------------------------------------------------------------------------\u001b[0m",
      "\u001b[0;31mTypeError\u001b[0m                                 Traceback (most recent call last)",
      "\u001b[0;32m<ipython-input-33-e1ce1f0736f3>\u001b[0m in \u001b[0;36m<module>\u001b[0;34m\u001b[0m\n\u001b[1;32m      2\u001b[0m \u001b[0;32mfor\u001b[0m \u001b[0mmenu\u001b[0m \u001b[0;32min\u001b[0m \u001b[0mmenu\u001b[0m\u001b[0;34m:\u001b[0m\u001b[0;34m\u001b[0m\u001b[0;34m\u001b[0m\u001b[0m\n\u001b[1;32m      3\u001b[0m     \u001b[0mprint\u001b[0m\u001b[0;34m(\u001b[0m\u001b[0mmenu\u001b[0m\u001b[0;34m)\u001b[0m\u001b[0;34m\u001b[0m\u001b[0;34m\u001b[0m\u001b[0m\n\u001b[0;32m----> 4\u001b[0;31m     \u001b[0mmenu_items\u001b[0m\u001b[0;34m=\u001b[0m\u001b[0mmenu\u001b[0m\u001b[0;34m[\u001b[0m\u001b[0;34m'items'\u001b[0m\u001b[0;34m]\u001b[0m\u001b[0;34m\u001b[0m\u001b[0;34m\u001b[0m\u001b[0m\n\u001b[0m\u001b[1;32m      5\u001b[0m     \u001b[0mprint\u001b[0m\u001b[0;34m(\u001b[0m\u001b[0mmenu_items\u001b[0m\u001b[0;34m)\u001b[0m\u001b[0;34m\u001b[0m\u001b[0;34m\u001b[0m\u001b[0m\n\u001b[1;32m      6\u001b[0m     \u001b[0mprice\u001b[0m\u001b[0;34m=\u001b[0m\u001b[0mmenu\u001b[0m\u001b[0;34m[\u001b[0m\u001b[0;34m'price'\u001b[0m\u001b[0;34m]\u001b[0m\u001b[0;34m\u001b[0m\u001b[0;34m\u001b[0m\u001b[0m\n",
      "\u001b[0;31mTypeError\u001b[0m: string indices must be integers"
     ]
    }
   ],
   "source": [
    "print(menu)\n",
    "for menu in menu:\n",
    "    print(menu)\n",
    "    menu_items=menu['items']\n",
    "    print(menu_items)\n",
    "    price=menu['price']\n",
    "    cost=menu['cost']\n",
    "    quantity=0\n",
    "    for sales_item in sales:\n",
    "        if sales_item['Menu_Item']==items:\n",
    "            report[sales_item][\"01-count\"] += quantity\n",
    "            report[sales_item][\"02-revenue\"] += price * quantity\n",
    "            report[sales_item][\"03-cogs\"] += cost * quantity\n",
    "            report[sales_item][\"04-profit\"] += profit * quantity\n",
    "        else:\n",
    "            print(f\"{sales_item} does not equal {item}! NO MATCH!\")\n",
    "print(report)"
   ]
  },
  {
   "cell_type": "code",
   "execution_count": null,
   "metadata": {},
   "outputs": [],
   "source": []
  }
 ],
 "metadata": {
  "kernelspec": {
   "display_name": "Python 3",
   "language": "python",
   "name": "python3"
  },
  "language_info": {
   "codemirror_mode": {
    "name": "ipython",
    "version": 3
   },
   "file_extension": ".py",
   "mimetype": "text/x-python",
   "name": "python",
   "nbconvert_exporter": "python",
   "pygments_lexer": "ipython3",
   "version": "3.7.3"
  }
 },
 "nbformat": 4,
 "nbformat_minor": 2
}
