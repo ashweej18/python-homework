{
 "cells": [
  {
   "cell_type": "code",
   "execution_count": 1,
   "metadata": {},
   "outputs": [],
   "source": [
    "import csv \n",
    "from pathlib import Path"
   ]
  },
  {
   "cell_type": "code",
   "execution_count": 2,
   "metadata": {},
   "outputs": [],
   "source": [
    "menu_filepath=Path(\"Data/menu_data.csv\")\n",
    "sales_filepath=Path(\"Data/sales_data.csv\")"
   ]
  },
  {
   "cell_type": "code",
   "execution_count": null,
   "metadata": {},
   "outputs": [],
   "source": [
    "menu_filepath"
   ]
  },
  {
   "cell_type": "code",
   "execution_count": 3,
   "metadata": {},
   "outputs": [],
   "source": [
    "menu=[]\n",
    "sales=[]"
   ]
  },
  {
   "cell_type": "code",
   "execution_count": 4,
   "metadata": {},
   "outputs": [],
   "source": [
    "#Reading menu data csv file to menu dictionary\n",
    "with open(menu_filepath) as menu_file:\n",
    "    reader2 = csv.reader(menu_file)\n",
    "    next(reader2)\n",
    "    for row in reader2:\n",
    "        menu.append({'items':row[0],'category':row[1],'description':row[2],'price':row[3],'cost':row[4]})"
   ]
  },
  {
   "cell_type": "code",
   "execution_count": 5,
   "metadata": {},
   "outputs": [],
   "source": [
    "#Reading sales data csv file to sales dictionary\n",
    "with open(sales_filepath) as sales_file:\n",
    "    reader2 = csv.reader(sales_file)\n",
    "    next(reader2)\n",
    "    for row in reader2:\n",
    "        next(reader2,None)\n",
    "        #print(row)\n",
    "        sales.append({'Line_item_ID':row[0],'Date':row[1],'Credit_Card_Number':row[2],'Quantity':row[3],'Menu_Item':row[4]})"
   ]
  },
  {
   "cell_type": "code",
   "execution_count": 6,
   "metadata": {},
   "outputs": [],
   "source": [
    "report={}"
   ]
  },
  {
   "cell_type": "code",
   "execution_count": 21,
   "metadata": {},
   "outputs": [
    {
     "name": "stdout",
     "output_type": "stream",
     "text": [
      "spicy miso ramen\n",
      "Total Quantity:4619\n"
     ]
    }
   ],
   "source": [
    "for row in menu:\n",
    "    if row['items']=='spicy miso ramen':\n",
    "        menu_item_name=row['items']\n",
    "        price=float(row['price'])\n",
    "        cost= float(row['cost'])\n",
    "        quantity=0\n",
    "        total_quantity=0\n",
    "        print(menu_item_name)\n",
    "        for line_item in sales:\n",
    "            #print(line_item['Menu_Item'])\n",
    "            if line_item['Menu_Item']==menu_item_name:\n",
    "                quantity=int(line_item['Quantity'])\n",
    "                #print(quantity)\n",
    "                total_quantity=total_quantity+quantity\n",
    "        print(f\"Total Quantity:{total_quantity}\")\n",
    "    \n",
    "    #report[menu_item_name][\"01-count\"]=0\n",
    "    #report[menu_item_name][\"02-revenue\"] =price\n",
    "    #report[menu_item_name][\"03-cogs\"] = cost \n",
    "    #report[menu_item_name][\"04-profit\"] = 0\n",
    "    #for sale_line_item in sales:\n",
    "         #print(\"Match found\")\n",
    "        \n",
    "            #print(sale_line_item['Menu_Item'])\n",
    "            #quantity=sale_line_item['Quantity']\n",
    "            #report[menu_item][\"01-count\"]+=quantity\n",
    "            #report[menu_item][\"02-revenue\"] += price * quantity\n",
    "            #report[menu_item][\"03-cogs\"] += cost * quantity\n",
    "            #report[menu_item][\"04-profit\"] += profit * quantity\n",
    "        \n",
    "        #if sale_line_item['Menu_Item']==menu_item_name:\n",
    "       "
   ]
  },
  {
   "cell_type": "code",
   "execution_count": null,
   "metadata": {},
   "outputs": [],
   "source": []
  },
  {
   "cell_type": "code",
   "execution_count": null,
   "metadata": {},
   "outputs": [],
   "source": []
  },
  {
   "cell_type": "code",
   "execution_count": null,
   "metadata": {},
   "outputs": [],
   "source": []
  }
 ],
 "metadata": {
  "kernelspec": {
   "display_name": "Python 3",
   "language": "python",
   "name": "python3"
  },
  "language_info": {
   "codemirror_mode": {
    "name": "ipython",
    "version": 3
   },
   "file_extension": ".py",
   "mimetype": "text/x-python",
   "name": "python",
   "nbconvert_exporter": "python",
   "pygments_lexer": "ipython3",
   "version": "3.7.3"
  }
 },
 "nbformat": 4,
 "nbformat_minor": 2
}
