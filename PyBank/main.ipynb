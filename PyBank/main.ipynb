{
 "cells": [
  {
   "cell_type": "code",
   "execution_count": 1,
   "metadata": {},
   "outputs": [],
   "source": [
    "#import csv library\n",
    "import csv as csv"
   ]
  },
  {
   "cell_type": "code",
   "execution_count": 2,
   "metadata": {},
   "outputs": [],
   "source": [
    "#Initializing the dictionary Budget Data\n",
    "Budget_Data={\"Date\":\"Profit/Losses\"}"
   ]
  },
  {
   "cell_type": "code",
   "execution_count": 3,
   "metadata": {},
   "outputs": [],
   "source": [
    "#Reading csv file and loading it into dictionary\n",
    "with open('Data/budget_data.csv') as budget_file:\n",
    "    reader2 = csv.DictReader(budget_file)\n",
    "    for row in reader2:\n",
    "        Budget_Data[row['Date']]=row['Profit/Losses']"
   ]
  },
  {
   "cell_type": "code",
   "execution_count": 4,
   "metadata": {},
   "outputs": [],
   "source": [
    "#Initialising Variables\n",
    "no_of_months=0\n",
    "total_pnl=0\n",
    "current_pnl=0\n",
    "previous_pnl=0\n",
    "Change_pnl ={}\n",
    "average_change=0\n",
    "greatest_increase_profit=0\n",
    "greatest_decrease_profit=0\n",
    "greatest_increase_month=0\n",
    "greatest_decrease_month=0\n",
    "total_change=0\n",
    "no_change_month=0"
   ]
  },
  {
   "cell_type": "code",
   "execution_count": 5,
   "metadata": {},
   "outputs": [],
   "source": [
    "#calculating the change in Profit/Losses\n",
    "for month, pnl in Budget_Data.items():\n",
    "    if month !=\"Date\":\n",
    "        no_of_months=no_of_months+1\n",
    "        total_pnl=total_pnl+int(pnl)\n",
    "        if previous_pnl==0:\n",
    "            previous_pnl=int(pnl)\n",
    "            current_pnl==0\n",
    "            Change_pnl[month]=0\n",
    "        else :\n",
    "            current_pnl=pnl\n",
    "            Change_pnl[month]= int(current_pnl)-int(previous_pnl)\n",
    "            previous_pnl=pnl\n",
    "    \n",
    "    "
   ]
  },
  {
   "cell_type": "code",
   "execution_count": 6,
   "metadata": {},
   "outputs": [],
   "source": [
    "#calculating greatest increase and decrease in profits\n",
    "for change_month,change_pnl in Change_pnl.items():\n",
    "    if change_pnl !=0 :\n",
    "        total_change=total_change+change_pnl\n",
    "        no_change_month=no_change_month+1\n",
    "    if greatest_increase_profit==0 and greatest_decrease_month==0:\n",
    "        greatest_increase_profit=change_pnl\n",
    "        greatest_decrease_profit=change_pnl\n",
    "    elif change_pnl > greatest_increase_profit:\n",
    "        greatest_increase_profit=change_pnl\n",
    "        greatest_increase_month=change_month\n",
    "    elif change_pnl < greatest_decrease_profit:\n",
    "        greatest_decrease_profit=change_pnl\n",
    "        greatest_decrease_month=change_month\n",
    "\n"
   ]
  },
  {
   "cell_type": "code",
   "execution_count": 7,
   "metadata": {},
   "outputs": [
    {
     "name": "stdout",
     "output_type": "stream",
     "text": [
      "\tFinancial Analysis\n",
      "----------------------------------------------------------------------------------------------------\n",
      "Total Number of Months: 86\n",
      "Total Profit/Loss: $38382578\n",
      "Average Change: $-2315.12\n",
      "Greatest increase in Profits: Feb-2012 ($1926159)\n",
      "Greatest decrease in Proftis: Sep-2013 ($-2196167)\n"
     ]
    }
   ],
   "source": [
    "#Displaying output ot the terminal\n",
    "print(\"\\tFinancial Analysis\")\n",
    "print(\"-\"*100)\n",
    "print(f\"Total Number of Months: {no_of_months}\")\n",
    "print(f\"Total Profit/Loss: ${total_pnl}\")\n",
    "print(f\"Average Change: ${round(total_change/no_change_month,2)}\")\n",
    "print(f\"Greatest increase in Profits: {greatest_increase_month} (${greatest_increase_profit})\")\n",
    "print(f\"Greatest decrease in Proftis: {greatest_decrease_month} (${greatest_decrease_profit})\")"
   ]
  },
  {
   "cell_type": "code",
   "execution_count": 8,
   "metadata": {},
   "outputs": [],
   "source": [
    "import sys\n",
    "import os"
   ]
  },
  {
   "cell_type": "code",
   "execution_count": 9,
   "metadata": {},
   "outputs": [],
   "source": [
    "#Writing output to text file\n",
    "if os.path.exists(\"output.txt\"):\n",
    "    os.remove(\"output.txt\")\n",
    "output_file =open(\"output.txt\", \"w\")\n",
    "output_file.write(\"\\t\"+\"Financial Analysis -ASHWEEJ\"+\"\\n\")\n",
    "output_file.write(\"--------------------------------------------\"+\"\\n\")\n",
    "output_file.write(\"Total Number of Months: \"+ str(no_of_months) + \"\\n\")\n",
    "output_file.write(\"Total Profit/Loss: $\"+ str(total_pnl)+\"\\n\")\n",
    "output_file.write(\"Average Change: $\"+ str(round(total_change/no_change_month,2))+\"\\n\")\n",
    "output_file.write(\"Greatest increase in Profits: \"+ str(greatest_increase_month)+\" ($\"+ str(greatest_increase_profit)+\")\"+\"\\n\")\n",
    "output_file.write(\"Greatest decrease in Proftis: \"+ str(greatest_decrease_month)+\" ($\"+ str(greatest_decrease_profit)+\")\"+\"\\n\")\n",
    "output_file.close()"
   ]
  },
  {
   "cell_type": "code",
   "execution_count": 15,
   "metadata": {},
   "outputs": [
    {
     "name": "stdout",
     "output_type": "stream",
     "text": [
      "None\n"
     ]
    }
   ],
   "source": []
  },
  {
   "cell_type": "code",
   "execution_count": null,
   "metadata": {},
   "outputs": [],
   "source": []
  },
  {
   "cell_type": "code",
   "execution_count": null,
   "metadata": {},
   "outputs": [],
   "source": []
  }
 ],
 "metadata": {
  "kernelspec": {
   "display_name": "Python 3",
   "language": "python",
   "name": "python3"
  },
  "language_info": {
   "codemirror_mode": {
    "name": "ipython",
    "version": 3
   },
   "file_extension": ".py",
   "mimetype": "text/x-python",
   "name": "python",
   "nbconvert_exporter": "python",
   "pygments_lexer": "ipython3",
   "version": "3.7.3"
  }
 },
 "nbformat": 4,
 "nbformat_minor": 2
}
